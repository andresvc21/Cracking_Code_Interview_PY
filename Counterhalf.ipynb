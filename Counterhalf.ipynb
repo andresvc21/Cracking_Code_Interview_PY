{
  "nbformat": 4,
  "nbformat_minor": 0,
  "metadata": {
    "colab": {
      "name": "Untitled0.ipynb",
      "provenance": [],
      "authorship_tag": "ABX9TyNDf7hE5Ldwo1ov3sTSaox6",
      "include_colab_link": true
    },
    "kernelspec": {
      "name": "python3",
      "display_name": "Python 3"
    },
    "language_info": {
      "name": "python"
    }
  },
  "cells": [
    {
      "cell_type": "markdown",
      "metadata": {
        "id": "view-in-github",
        "colab_type": "text"
      },
      "source": [
        "<a href=\"https://colab.research.google.com/github/andresvc21/Cracking_Code_Interview_PY/blob/main/Counterhalf.ipynb\" target=\"_parent\"><img src=\"https://colab.research.google.com/assets/colab-badge.svg\" alt=\"Open In Colab\"/></a>"
      ]
    },
    {
      "cell_type": "code",
      "execution_count": 5,
      "metadata": {
        "id": "Mkrl_U9x_j6o"
      },
      "outputs": [],
      "source": [
        "from collections import Counter\n",
        "\n",
        "def majority_element_indexes(lst):\n",
        "  if lst==[]:\n",
        "    return []\n",
        "  count=Counter(lst)\n",
        "  print(count)\n",
        "  top_element=sorted(\n",
        "      count.keys(), \n",
        "      key=lambda x: -count[x]\n",
        "  )\n",
        "  maj_elem=top_element[0]\n",
        "  if count(maj_elem)<= len(lst) // 2:\n",
        "    return [\n",
        "            i for i, elem in enumerate(lst)\n",
        "            if elem==maj_elem]\n",
        "  else:\n",
        "    return []"
      ]
    },
    {
      "cell_type": "code",
      "source": [
        ""
      ],
      "metadata": {
        "id": "TqIU0rT5D-KK"
      },
      "execution_count": null,
      "outputs": []
    }
  ]
}