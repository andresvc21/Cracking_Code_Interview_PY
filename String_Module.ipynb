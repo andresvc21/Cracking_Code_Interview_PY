{
  "nbformat": 4,
  "nbformat_minor": 0,
  "metadata": {
    "colab": {
      "name": "String_Module.ipynb",
      "provenance": [],
      "authorship_tag": "ABX9TyO9g/Nr/5yzLhG7TZdj6ldA",
      "include_colab_link": true
    },
    "kernelspec": {
      "name": "python3",
      "display_name": "Python 3"
    },
    "language_info": {
      "name": "python"
    }
  },
  "cells": [
    {
      "cell_type": "markdown",
      "metadata": {
        "id": "view-in-github",
        "colab_type": "text"
      },
      "source": [
        "<a href=\"https://colab.research.google.com/github/andresvc21/Cracking_Code_Interview_PY/blob/main/String_Module.ipynb\" target=\"_parent\"><img src=\"https://colab.research.google.com/assets/colab-badge.svg\" alt=\"Open In Colab\"/></a>"
      ]
    },
    {
      "cell_type": "code",
      "execution_count": 5,
      "metadata": {
        "id": "UYYs67F1aj1e"
      },
      "outputs": [],
      "source": [
        "import string\n",
        "def is_upper(s):\n",
        "  for letter in s:\n",
        "    if letter not in string.ascii_uppercase:\n",
        "      return False\n",
        "  return True"
      ]
    },
    {
      "cell_type": "code",
      "source": [
        "is_upper('HELLO WORLD')"
      ],
      "metadata": {
        "colab": {
          "base_uri": "https://localhost:8080/"
        },
        "id": "WF14KijTww7C",
        "outputId": "243ff3a9-edbf-48ed-98bc-4b9e0b0e1774"
      },
      "execution_count": 6,
      "outputs": [
        {
          "output_type": "execute_result",
          "data": {
            "text/plain": [
              "False"
            ]
          },
          "metadata": {},
          "execution_count": 6
        }
      ]
    },
    {
      "cell_type": "code",
      "source": [
        "is_upper('HELLOWORL')"
      ],
      "metadata": {
        "colab": {
          "base_uri": "https://localhost:8080/"
        },
        "id": "KoHR35i_w5Mg",
        "outputId": "7a5f53de-1f7d-42c0-8523-44a455e6c6b2"
      },
      "execution_count": 7,
      "outputs": [
        {
          "output_type": "execute_result",
          "data": {
            "text/plain": [
              "True"
            ]
          },
          "metadata": {},
          "execution_count": 7
        }
      ]
    },
    {
      "cell_type": "code",
      "source": [
        "def is_upper_set(s):\n",
        "  uppercase_set=set(string.ascii_uppercase)\n",
        "  for letter in s:\n",
        "    if letter not in uppercase_set:\n",
        "      return False\n",
        "  return True"
      ],
      "metadata": {
        "id": "eKWKDkbLw7v0"
      },
      "execution_count": 12,
      "outputs": []
    },
    {
      "cell_type": "code",
      "source": [
        "%timeit is_upper('HELLOWORLD')"
      ],
      "metadata": {
        "colab": {
          "base_uri": "https://localhost:8080/"
        },
        "id": "lRuyAwUnxIT0",
        "outputId": "805f75bc-3ff8-43ef-f1f7-22845dbc7d3f"
      },
      "execution_count": 9,
      "outputs": [
        {
          "output_type": "stream",
          "name": "stdout",
          "text": [
            "1000000 loops, best of 5: 969 ns per loop\n"
          ]
        }
      ]
    },
    {
      "cell_type": "code",
      "source": [
        "%timeit is_upper_set('HELLOWORLD')"
      ],
      "metadata": {
        "colab": {
          "base_uri": "https://localhost:8080/"
        },
        "id": "MTO5CSPCxQGM",
        "outputId": "6aba1235-3f25-4520-c1be-fe37ce948bfa"
      },
      "execution_count": 13,
      "outputs": [
        {
          "output_type": "stream",
          "name": "stdout",
          "text": [
            "1000000 loops, best of 5: 1.26 µs per loop\n"
          ]
        }
      ]
    },
    {
      "cell_type": "code",
      "source": [
        "def is_upper_cleaner(s):\n",
        "  uppercase_set=set(string.ascii_uppercase)\n",
        "  return all(letter in uppercase_set for letter in s)\n"
      ],
      "metadata": {
        "id": "fXWi2RYExdaw"
      },
      "execution_count": 21,
      "outputs": []
    },
    {
      "cell_type": "code",
      "source": [
        "is_upper_cleaner('HELLOWORLD')"
      ],
      "metadata": {
        "colab": {
          "base_uri": "https://localhost:8080/"
        },
        "id": "Qg3OX_zLxj7W",
        "outputId": "6bc4f5f3-0317-45af-a199-dada4613408e"
      },
      "execution_count": 22,
      "outputs": [
        {
          "output_type": "execute_result",
          "data": {
            "text/plain": [
              "True"
            ]
          },
          "metadata": {},
          "execution_count": 22
        }
      ]
    }
  ]
}