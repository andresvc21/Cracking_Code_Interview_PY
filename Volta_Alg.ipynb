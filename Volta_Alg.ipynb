{
  "nbformat": 4,
  "nbformat_minor": 0,
  "metadata": {
    "colab": {
      "name": "Volta_Alg.ipynb",
      "provenance": [],
      "authorship_tag": "ABX9TyM3ShZmM49yLHmAsrPz7tMv",
      "include_colab_link": true
    },
    "kernelspec": {
      "name": "python3",
      "display_name": "Python 3"
    },
    "language_info": {
      "name": "python"
    }
  },
  "cells": [
    {
      "cell_type": "markdown",
      "metadata": {
        "id": "view-in-github",
        "colab_type": "text"
      },
      "source": [
        "<a href=\"https://colab.research.google.com/github/andresvc21/Cracking_Code_Interview_PY/blob/main/Volta_Alg.ipynb\" target=\"_parent\"><img src=\"https://colab.research.google.com/assets/colab-badge.svg\" alt=\"Open In Colab\"/></a>"
      ]
    },
    {
      "cell_type": "code",
      "execution_count": 30,
      "metadata": {
        "colab": {
          "base_uri": "https://localhost:8080/"
        },
        "id": "_oNnQBU-8HGr",
        "outputId": "45bf01d1-a292-41f7-bc04-0208bcdf5780"
      },
      "outputs": [
        {
          "name": "stdout",
          "output_type": "stream",
          "text": [
            "Enter a String = az1\n",
            "Enter any number= 7\n"
          ]
        }
      ],
      "source": [
        "str=input('Enter a String = ')\n",
        "multpr=int(input('Enter any number= '))"
      ]
    },
    {
      "cell_type": "code",
      "source": [
        "repetead_stgr=str*multpr\n",
        "print((repetead_stgr)+'...')"
      ],
      "metadata": {
        "colab": {
          "base_uri": "https://localhost:8080/"
        },
        "id": "N7qdJUxa8S1-",
        "outputId": "316ea42b-816f-4bd2-a827-fefe8d0e6dd1"
      },
      "execution_count": 31,
      "outputs": [
        {
          "output_type": "stream",
          "name": "stdout",
          "text": [
            "az1az1az1az1az1az1az1...\n"
          ]
        }
      ]
    },
    {
      "cell_type": "code",
      "source": [
        "def find_num_a(s, n):\n",
        "    '''\n",
        "  You are given a string variable named pattern that is repeated an infinite number of times. For example, if pattern = ‘abcd’, then the string is repeated to ‘abdcabdcabdcabdcabdcabdc…’\n",
        "\n",
        "    Given a length with value length, find the number of letter ‘a’s in the first length characters of the infinite string.\n",
        "\n",
        "    Example:\n",
        "\n",
        "    >>> s = 'az1'\n",
        "    >>> n = 7\n",
        "    >>> find_num_a(s, n)\n",
        "    3\n",
        "    '''\n",
        "    target = 'a'\n",
        "    target_count = 0\n",
        "\n",
        "    # how many times does the string need to be repeated\n",
        "    complete = n // len(s)\n",
        "    remainder = n % len(s)\n",
        "\n",
        "    for i in s:  # how many times target appears in 1 instance \n",
        "        if i == target:\n",
        "            target_count += 1\n",
        "        \n",
        "    # how many times the target appears in complete instances\n",
        "    target_count = target_count * complete\n",
        "\n",
        "    for i in s[:remainder]:  # count the remaining targets i\n",
        "        if i == target:\n",
        "            target_count += 1\n",
        "\n",
        "    return target_count"
      ],
      "metadata": {
        "id": "SBo4lHro8zHz"
      },
      "execution_count": 32,
      "outputs": []
    },
    {
      "cell_type": "code",
      "source": [
        "find_num_a(str, multpr)\n"
      ],
      "metadata": {
        "colab": {
          "base_uri": "https://localhost:8080/"
        },
        "id": "JwZ7ErmQ97tN",
        "outputId": "3a3d4fdc-4a32-4ac2-cbd2-74394c129f92"
      },
      "execution_count": 33,
      "outputs": [
        {
          "output_type": "execute_result",
          "data": {
            "text/plain": [
              "3"
            ]
          },
          "metadata": {},
          "execution_count": 33
        }
      ]
    },
    {
      "cell_type": "code",
      "source": [
        "import doctest\n",
        "doctest.testmod()"
      ],
      "metadata": {
        "colab": {
          "base_uri": "https://localhost:8080/"
        },
        "id": "PwxHHoiEAzV6",
        "outputId": "e2c46d85-0ccb-4411-bd06-b287ef093925"
      },
      "execution_count": 34,
      "outputs": [
        {
          "output_type": "execute_result",
          "data": {
            "text/plain": [
              "TestResults(failed=0, attempted=3)"
            ]
          },
          "metadata": {},
          "execution_count": 34
        }
      ]
    }
  ]
}