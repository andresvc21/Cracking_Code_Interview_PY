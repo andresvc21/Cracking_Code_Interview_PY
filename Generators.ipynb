{
  "nbformat": 4,
  "nbformat_minor": 0,
  "metadata": {
    "colab": {
      "name": "Generators.ipynb",
      "provenance": [],
      "authorship_tag": "ABX9TyPirG/9mRtdWzo+jIUXDcuw",
      "include_colab_link": true
    },
    "kernelspec": {
      "name": "python3",
      "display_name": "Python 3"
    },
    "language_info": {
      "name": "python"
    }
  },
  "cells": [
    {
      "cell_type": "markdown",
      "metadata": {
        "id": "view-in-github",
        "colab_type": "text"
      },
      "source": [
        "<a href=\"https://colab.research.google.com/github/andresvc21/Cracking_Code_Interview_PY/blob/main/Generators.ipynb\" target=\"_parent\"><img src=\"https://colab.research.google.com/assets/colab-badge.svg\" alt=\"Open In Colab\"/></a>"
      ]
    },
    {
      "cell_type": "code",
      "execution_count": 3,
      "metadata": {
        "colab": {
          "base_uri": "https://localhost:8080/"
        },
        "id": "NU-sFfBFWPMY",
        "outputId": "543c8e05-9279-4782-f863-b4a18b457732"
      },
      "outputs": [
        {
          "output_type": "execute_result",
          "data": {
            "text/plain": [
              "9032"
            ]
          },
          "metadata": {},
          "execution_count": 3
        }
      ],
      "source": [
        "import sys\n",
        "lst=[i for i in range(1,1001)]\n",
        "g=(i for i in range(1,1001))\n",
        "\n",
        "sys.getsizeof(lst)"
      ]
    },
    {
      "cell_type": "code",
      "source": [
        "sys.getsizeof(g)"
      ],
      "metadata": {
        "id": "HjdDB2nvW9B0",
        "outputId": "78c2aad2-4222-4e89-ef37-d516c489ff44",
        "colab": {
          "base_uri": "https://localhost:8080/"
        }
      },
      "execution_count": 4,
      "outputs": [
        {
          "output_type": "execute_result",
          "data": {
            "text/plain": [
              "128"
            ]
          },
          "metadata": {},
          "execution_count": 4
        }
      ]
    }
  ]
}