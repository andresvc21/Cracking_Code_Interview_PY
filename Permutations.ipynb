{
  "nbformat": 4,
  "nbformat_minor": 0,
  "metadata": {
    "colab": {
      "name": "Permutations.ipynb",
      "provenance": [],
      "authorship_tag": "ABX9TyMR5a1oUzwM7xPTzs0jLwVl",
      "include_colab_link": true
    },
    "kernelspec": {
      "name": "python3",
      "display_name": "Python 3"
    },
    "language_info": {
      "name": "python"
    }
  },
  "cells": [
    {
      "cell_type": "markdown",
      "metadata": {
        "id": "view-in-github",
        "colab_type": "text"
      },
      "source": [
        "<a href=\"https://colab.research.google.com/github/andresvc21/Cracking_Code_Interview_PY/blob/main/Permutations.ipynb\" target=\"_parent\"><img src=\"https://colab.research.google.com/assets/colab-badge.svg\" alt=\"Open In Colab\"/></a>"
      ]
    },
    {
      "cell_type": "code",
      "execution_count": 2,
      "metadata": {
        "colab": {
          "base_uri": "https://localhost:8080/"
        },
        "id": "1QxDX8K10Ec6",
        "outputId": "e9d602ab-a6be-4272-f667-1134ab889b72"
      },
      "outputs": [
        {
          "output_type": "execute_result",
          "data": {
            "text/plain": [
              "<itertools.permutations at 0x7fcf3a8ff350>"
            ]
          },
          "metadata": {},
          "execution_count": 2
        }
      ],
      "source": [
        "import itertools as it\n",
        "friends=['Jack', 'Joe', \"Jean\"]\n",
        "it.permutations(friends, r=2)\n"
      ]
    },
    {
      "cell_type": "code",
      "source": [
        "list(it.permutations(friends, r=2))"
      ],
      "metadata": {
        "colab": {
          "base_uri": "https://localhost:8080/"
        },
        "id": "YkcSo8kD0P1k",
        "outputId": "802af87a-2b6b-4572-96f2-9261c0dc4c92"
      },
      "execution_count": 3,
      "outputs": [
        {
          "output_type": "execute_result",
          "data": {
            "text/plain": [
              "[('Jack', 'Joe'),\n",
              " ('Jack', 'Jean'),\n",
              " ('Joe', 'Jack'),\n",
              " ('Joe', 'Jean'),\n",
              " ('Jean', 'Jack'),\n",
              " ('Jean', 'Joe')]"
            ]
          },
          "metadata": {},
          "execution_count": 3
        }
      ]
    },
    {
      "cell_type": "code",
      "source": [
        "list(it.combinations(friends, r=3))"
      ],
      "metadata": {
        "colab": {
          "base_uri": "https://localhost:8080/"
        },
        "id": "YCZqC9SR0Z91",
        "outputId": "c92c05b7-05f5-481c-fac6-cfbe2deae59f"
      },
      "execution_count": 4,
      "outputs": [
        {
          "output_type": "execute_result",
          "data": {
            "text/plain": [
              "[('Jack', 'Joe', 'Jean')]"
            ]
          },
          "metadata": {},
          "execution_count": 4
        }
      ]
    }
  ]
}