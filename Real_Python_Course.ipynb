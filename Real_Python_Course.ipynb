{
  "nbformat": 4,
  "nbformat_minor": 0,
  "metadata": {
    "colab": {
      "name": "Real_Python_Course.ipynb",
      "provenance": [],
      "authorship_tag": "ABX9TyNdiYELfJLC2VfFmb1heWsO",
      "include_colab_link": true
    },
    "kernelspec": {
      "name": "python3",
      "display_name": "Python 3"
    },
    "language_info": {
      "name": "python"
    }
  },
  "cells": [
    {
      "cell_type": "markdown",
      "metadata": {
        "id": "view-in-github",
        "colab_type": "text"
      },
      "source": [
        "<a href=\"https://colab.research.google.com/github/andresvc21/Cracking_Code_Interview_PY/blob/main/Real_Python_Course.ipynb\" target=\"_parent\"><img src=\"https://colab.research.google.com/assets/colab-badge.svg\" alt=\"Open In Colab\"/></a>"
      ]
    },
    {
      "cell_type": "markdown",
      "source": [
        "#Range VS Enumerate"
      ],
      "metadata": {
        "id": "RvRvoh14Yq-s"
      }
    },
    {
      "cell_type": "code",
      "execution_count": 12,
      "metadata": {
        "id": "I7a-pLOsYF3n"
      },
      "outputs": [],
      "source": [
        "def fizz_buzz(numbers):\n",
        "  for i in range(len(numbers)):\n",
        "    num=numbers[i]\n",
        "    if num % 3==0:\n",
        "      numbers[i]=\"fizz\"\n",
        "    if num % 5==0:\n",
        "      numbers[i]=\"buzz\"\n",
        "    if num % 5==0 and num % 3==0:\n",
        "      numbers[i]=\"buzz\"     \n",
        "  print(numbers)\n"
      ]
    },
    {
      "cell_type": "code",
      "source": [
        "fizz_buzz([1,2,4,3,9,5,25,30])"
      ],
      "metadata": {
        "colab": {
          "base_uri": "https://localhost:8080/"
        },
        "id": "Fe0LkKQMZ_2R",
        "outputId": "c543743e-a304-4ef1-d2e9-b6139b81ad12"
      },
      "execution_count": 13,
      "outputs": [
        {
          "output_type": "stream",
          "name": "stdout",
          "text": [
            "[1, 2, 4, 'fizz', 'fizz', 'buzz', 'buzz', 'buzz']\n"
          ]
        }
      ]
    },
    {
      "cell_type": "code",
      "source": [
        "def fizz_buzz(numbers):\n",
        "  for i, num in enumerate(numbers):\n",
        "    if num % 3==0:\n",
        "      numbers[i]=\"fizz\"\n",
        "    if num % 5==0:\n",
        "      numbers[i]=\"buzz\" \n",
        "    if num % 5==0 and num % 3==0:\n",
        "      numbers[i]=\"buzz\"     \n",
        "  print(numbers)"
      ],
      "metadata": {
        "id": "_XXXbYWz38rR"
      },
      "execution_count": 16,
      "outputs": []
    },
    {
      "cell_type": "code",
      "source": [
        "fizz_buzz([1,2,4,3,9,5,25,30])"
      ],
      "metadata": {
        "colab": {
          "base_uri": "https://localhost:8080/"
        },
        "id": "y3LDl-b84DND",
        "outputId": "8ea869ab-fe25-425c-cc4e-898994456763"
      },
      "execution_count": 17,
      "outputs": [
        {
          "output_type": "stream",
          "name": "stdout",
          "text": [
            "[1, 2, 4, 'fizz', 'fizz', 'buzz', 'buzz', 'buzz']\n"
          ]
        }
      ]
    }
  ]
}