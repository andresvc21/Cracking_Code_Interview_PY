{
  "nbformat": 4,
  "nbformat_minor": 0,
  "metadata": {
    "colab": {
      "name": "DictionairesAndCollections.ipynb",
      "provenance": [],
      "authorship_tag": "ABX9TyMQZl37MjTeBA0pc58r0mF/",
      "include_colab_link": true
    },
    "kernelspec": {
      "name": "python3",
      "display_name": "Python 3"
    },
    "language_info": {
      "name": "python"
    }
  },
  "cells": [
    {
      "cell_type": "markdown",
      "metadata": {
        "id": "view-in-github",
        "colab_type": "text"
      },
      "source": [
        "<a href=\"https://colab.research.google.com/github/andresvc21/Cracking_Code_Interview_PY/blob/main/DictionairesAndCollections.ipynb\" target=\"_parent\"><img src=\"https://colab.research.google.com/assets/colab-badge.svg\" alt=\"Open In Colab\"/></a>"
      ]
    },
    {
      "cell_type": "code",
      "execution_count": 12,
      "metadata": {
        "id": "uVCb8gO_Xena"
      },
      "outputs": [],
      "source": [
        "student_grades={\n",
        "    \"Jack\":[80, 95],\n",
        "    \"Jill\":[80, 95]\n",
        "}\n",
        "\n",
        "def get_grades_naive(name):\n",
        "  if name in student_grades:\n",
        "    return student_grades[name]\n",
        "  return []"
      ]
    },
    {
      "cell_type": "code",
      "source": [
        "get_grades_naive(\"Jack\")"
      ],
      "metadata": {
        "colab": {
          "base_uri": "https://localhost:8080/"
        },
        "id": "As928sd7X5uC",
        "outputId": "3475f048-c648-49f4-e444-fa2b189766be"
      },
      "execution_count": 13,
      "outputs": [
        {
          "output_type": "execute_result",
          "data": {
            "text/plain": [
              "[80, 95]"
            ]
          },
          "metadata": {},
          "execution_count": 13
        }
      ]
    },
    {
      "cell_type": "code",
      "source": [
        "def get_grades_better(name):\n",
        "  return student_grades.get(name, [])"
      ],
      "metadata": {
        "id": "4VA0JVtjYBbI"
      },
      "execution_count": 17,
      "outputs": []
    },
    {
      "cell_type": "code",
      "source": [
        "get_grades_better(\"Jack\")"
      ],
      "metadata": {
        "colab": {
          "base_uri": "https://localhost:8080/"
        },
        "id": "sLkCNO6EYMBD",
        "outputId": "e4edd860-e77c-48bf-f4f9-54498e6092f2"
      },
      "execution_count": 18,
      "outputs": [
        {
          "output_type": "execute_result",
          "data": {
            "text/plain": [
              "[80, 95]"
            ]
          },
          "metadata": {},
          "execution_count": 18
        }
      ]
    },
    {
      "cell_type": "code",
      "source": [
        "get_grades_better(\"Joe\")"
      ],
      "metadata": {
        "colab": {
          "base_uri": "https://localhost:8080/"
        },
        "id": "WATWNTCYYNMb",
        "outputId": "a962fdc0-b5d8-4c7b-d3bc-8092155e0113"
      },
      "execution_count": 19,
      "outputs": [
        {
          "output_type": "execute_result",
          "data": {
            "text/plain": [
              "[]"
            ]
          },
          "metadata": {},
          "execution_count": 19
        }
      ]
    },
    {
      "cell_type": "code",
      "source": [
        "def get_grades_with_assignment(name):\n",
        "  if name not in student_grades:\n",
        "    student_grades[name]=[]\n",
        "  return student_grades[name]"
      ],
      "metadata": {
        "id": "gp9WmvX7YPmS"
      },
      "execution_count": 22,
      "outputs": []
    },
    {
      "cell_type": "code",
      "source": [
        "get_grades_with_assignment(\"Joe\")"
      ],
      "metadata": {
        "colab": {
          "base_uri": "https://localhost:8080/"
        },
        "id": "aXcsNuHMYmj_",
        "outputId": "2132c9d0-14ed-4b3c-d56a-76402926b64c"
      },
      "execution_count": 23,
      "outputs": [
        {
          "output_type": "execute_result",
          "data": {
            "text/plain": [
              "[]"
            ]
          },
          "metadata": {},
          "execution_count": 23
        }
      ]
    },
    {
      "cell_type": "code",
      "source": [
        "student_grades"
      ],
      "metadata": {
        "colab": {
          "base_uri": "https://localhost:8080/"
        },
        "id": "9hlrw9XDYnZn",
        "outputId": "31abe87c-0cea-44bc-f025-2b8dd78093f5"
      },
      "execution_count": 24,
      "outputs": [
        {
          "output_type": "execute_result",
          "data": {
            "text/plain": [
              "{'Jack': [80, 95], 'Jill': [80, 95], 'Joe': []}"
            ]
          },
          "metadata": {},
          "execution_count": 24
        }
      ]
    }
  ]
}